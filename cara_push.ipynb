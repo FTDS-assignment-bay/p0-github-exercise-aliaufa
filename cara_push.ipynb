{
 "cells": [
  {
   "cell_type": "markdown",
   "metadata": {},
   "source": [
    "# Cara Clone Repository"
   ]
  },
  {
   "cell_type": "markdown",
   "metadata": {},
   "source": [
    "Ada 2 Cara untuk clone:\n",
    "- melalui https (flexible, bisa berbagai device)\n",
    "- melalui ssh (secure kalau yang pakai device kita aja) (perlu setup)\n",
    "\n",
    "Cara clone.\n",
    "- `git clone <url repository>`\n",
    "- akan berbeda urlnya untuk ssh dan https tapi caranya sama"
   ]
  },
  {
   "cell_type": "markdown",
   "metadata": {},
   "source": [
    "Untuk sinkronisasi dari repository ke local, gunakan `git pull`"
   ]
  },
  {
   "cell_type": "markdown",
   "metadata": {},
   "source": [
    "# Cara Add perubahan loca ke repository"
   ]
  },
  {
   "cell_type": "markdown",
   "metadata": {},
   "source": [
    "1. untuk cek status repository gunakan `git status`\n",
    "2. lakukan `git add <nama file>` <nama file> bisa diganti dengan `.` untuk representasi semua file. file masuk ke staging\n",
    "3. untuk commit hasil staging gunakan `git commit -m \"maukan message commitnya\"` message commit biasanya berupa apa yang berubah atau ditambahkan\n",
    "4. untuk sinkronisasi ke repository dari local, gunakan `git push`\n",
    "\n"
   ]
  }
 ],
 "metadata": {
  "language_info": {
   "name": "python"
  }
 },
 "nbformat": 4,
 "nbformat_minor": 2
}
