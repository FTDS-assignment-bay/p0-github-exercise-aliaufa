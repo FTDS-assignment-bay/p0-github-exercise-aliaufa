{
 "cells": [
  {
   "cell_type": "markdown",
   "metadata": {},
   "source": [
    "# Cara Clone Repository"
   ]
  },
  {
   "cell_type": "markdown",
   "metadata": {},
   "source": [
    "Ada 2 Cara untuk clone:\n",
    "- melalui https (flexible, bisa berbagai device)\n",
    "- melalui ssh (secure kalau yang pakai device kita aja) (perlu setup)\n",
    "\n",
    "Cara clone.\n",
    "- `git clone <url repository>`\n",
    "- akan berbeda urlnya untuk ssh dan https tapi caranya sama"
   ]
  }
 ],
 "metadata": {
  "language_info": {
   "name": "python"
  }
 },
 "nbformat": 4,
 "nbformat_minor": 2
}
